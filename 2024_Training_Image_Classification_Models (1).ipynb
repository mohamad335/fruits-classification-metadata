{
  "cells": [
    {
      "cell_type": "markdown",
      "metadata": {
        "id": "MV623BdUWnhh"
      },
      "source": [
        "## Importing Libraries"
      ]
    },
    {
      "cell_type": "code",
      "execution_count": null,
      "metadata": {
        "colab": {
          "base_uri": "https://localhost:8080/"
        },
        "id": "fOHfaTNrbe3v",
        "outputId": "74bcad1c-1188-4620-cafe-40931f8f4565"
      },
      "outputs": [
        {
          "name": "stdout",
          "output_type": "stream",
          "text": [
            "Requirement already satisfied: pip in /usr/local/lib/python3.11/dist-packages (25.0)\n",
            "Requirement already satisfied: mediapipe-model-maker in /usr/local/lib/python3.11/dist-packages (0.2.1.4)\n",
            "Requirement already satisfied: absl-py in /usr/local/lib/python3.11/dist-packages (from mediapipe-model-maker) (1.4.0)\n",
            "Requirement already satisfied: mediapipe>=0.10.0 in /usr/local/lib/python3.11/dist-packages (from mediapipe-model-maker) (0.10.20)\n",
            "Requirement already satisfied: numpy in /usr/local/lib/python3.11/dist-packages (from mediapipe-model-maker) (1.26.4)\n",
            "Requirement already satisfied: opencv-python in /usr/local/lib/python3.11/dist-packages (from mediapipe-model-maker) (4.10.0.84)\n",
            "Requirement already satisfied: tensorflow<2.16,>=2.10 in /usr/local/lib/python3.11/dist-packages (from mediapipe-model-maker) (2.15.1)\n",
            "Requirement already satisfied: tensorflow-addons in /usr/local/lib/python3.11/dist-packages (from mediapipe-model-maker) (0.23.0)\n",
            "Requirement already satisfied: tensorflow-datasets in /usr/local/lib/python3.11/dist-packages (from mediapipe-model-maker) (4.9.7)\n",
            "Requirement already satisfied: tensorflow-hub in /usr/local/lib/python3.11/dist-packages (from mediapipe-model-maker) (0.16.1)\n",
            "Requirement already satisfied: tensorflow-model-optimization<0.8.0 in /usr/local/lib/python3.11/dist-packages (from mediapipe-model-maker) (0.7.5)\n",
            "Requirement already satisfied: tensorflow-text in /usr/local/lib/python3.11/dist-packages (from mediapipe-model-maker) (2.15.0)\n",
            "Requirement already satisfied: tf-models-official<2.16.0,>=2.13.2 in /usr/local/lib/python3.11/dist-packages (from mediapipe-model-maker) (2.15.0)\n",
            "Requirement already satisfied: attrs>=19.1.0 in /usr/local/lib/python3.11/dist-packages (from mediapipe>=0.10.0->mediapipe-model-maker) (25.1.0)\n",
            "Requirement already satisfied: flatbuffers>=2.0 in /usr/local/lib/python3.11/dist-packages (from mediapipe>=0.10.0->mediapipe-model-maker) (25.1.24)\n",
            "Requirement already satisfied: jax in /usr/local/lib/python3.11/dist-packages (from mediapipe>=0.10.0->mediapipe-model-maker) (0.4.33)\n",
            "Requirement already satisfied: jaxlib in /usr/local/lib/python3.11/dist-packages (from mediapipe>=0.10.0->mediapipe-model-maker) (0.4.33)\n",
            "Requirement already satisfied: matplotlib in /usr/local/lib/python3.11/dist-packages (from mediapipe>=0.10.0->mediapipe-model-maker) (3.10.0)\n",
            "Requirement already satisfied: opencv-contrib-python in /usr/local/lib/python3.11/dist-packages (from mediapipe>=0.10.0->mediapipe-model-maker) (4.10.0.84)\n",
            "Requirement already satisfied: protobuf<5,>=4.25.3 in /usr/local/lib/python3.11/dist-packages (from mediapipe>=0.10.0->mediapipe-model-maker) (4.25.6)\n",
            "Requirement already satisfied: sounddevice>=0.4.4 in /usr/local/lib/python3.11/dist-packages (from mediapipe>=0.10.0->mediapipe-model-maker) (0.5.1)\n",
            "Requirement already satisfied: sentencepiece in /usr/local/lib/python3.11/dist-packages (from mediapipe>=0.10.0->mediapipe-model-maker) (0.2.0)\n",
            "Requirement already satisfied: astunparse>=1.6.0 in /usr/local/lib/python3.11/dist-packages (from tensorflow<2.16,>=2.10->mediapipe-model-maker) (1.6.3)\n",
            "Requirement already satisfied: gast!=0.5.0,!=0.5.1,!=0.5.2,>=0.2.1 in /usr/local/lib/python3.11/dist-packages (from tensorflow<2.16,>=2.10->mediapipe-model-maker) (0.6.0)\n",
            "Requirement already satisfied: google-pasta>=0.1.1 in /usr/local/lib/python3.11/dist-packages (from tensorflow<2.16,>=2.10->mediapipe-model-maker) (0.2.0)\n",
            "Requirement already satisfied: h5py>=2.9.0 in /usr/local/lib/python3.11/dist-packages (from tensorflow<2.16,>=2.10->mediapipe-model-maker) (3.12.1)\n",
            "Requirement already satisfied: libclang>=13.0.0 in /usr/local/lib/python3.11/dist-packages (from tensorflow<2.16,>=2.10->mediapipe-model-maker) (18.1.1)\n",
            "Requirement already satisfied: ml-dtypes~=0.3.1 in /usr/local/lib/python3.11/dist-packages (from tensorflow<2.16,>=2.10->mediapipe-model-maker) (0.3.2)\n",
            "Requirement already satisfied: opt-einsum>=2.3.2 in /usr/local/lib/python3.11/dist-packages (from tensorflow<2.16,>=2.10->mediapipe-model-maker) (3.4.0)\n",
            "Requirement already satisfied: packaging in /usr/local/lib/python3.11/dist-packages (from tensorflow<2.16,>=2.10->mediapipe-model-maker) (24.2)\n",
            "Requirement already satisfied: setuptools in /usr/local/lib/python3.11/dist-packages (from tensorflow<2.16,>=2.10->mediapipe-model-maker) (75.1.0)\n",
            "Requirement already satisfied: six>=1.12.0 in /usr/local/lib/python3.11/dist-packages (from tensorflow<2.16,>=2.10->mediapipe-model-maker) (1.17.0)\n",
            "Requirement already satisfied: termcolor>=1.1.0 in /usr/local/lib/python3.11/dist-packages (from tensorflow<2.16,>=2.10->mediapipe-model-maker) (2.5.0)\n",
            "Requirement already satisfied: typing-extensions>=3.6.6 in /usr/local/lib/python3.11/dist-packages (from tensorflow<2.16,>=2.10->mediapipe-model-maker) (4.12.2)\n",
            "Requirement already satisfied: wrapt<1.15,>=1.11.0 in /usr/local/lib/python3.11/dist-packages (from tensorflow<2.16,>=2.10->mediapipe-model-maker) (1.14.1)\n",
            "Requirement already satisfied: tensorflow-io-gcs-filesystem>=0.23.1 in /usr/local/lib/python3.11/dist-packages (from tensorflow<2.16,>=2.10->mediapipe-model-maker) (0.37.1)\n",
            "Requirement already satisfied: grpcio<2.0,>=1.24.3 in /usr/local/lib/python3.11/dist-packages (from tensorflow<2.16,>=2.10->mediapipe-model-maker) (1.70.0)\n",
            "Requirement already satisfied: tensorboard<2.16,>=2.15 in /usr/local/lib/python3.11/dist-packages (from tensorflow<2.16,>=2.10->mediapipe-model-maker) (2.15.2)\n",
            "Requirement already satisfied: tensorflow-estimator<2.16,>=2.15.0 in /usr/local/lib/python3.11/dist-packages (from tensorflow<2.16,>=2.10->mediapipe-model-maker) (2.15.0)\n",
            "Requirement already satisfied: keras<2.16,>=2.15.0 in /usr/local/lib/python3.11/dist-packages (from tensorflow<2.16,>=2.10->mediapipe-model-maker) (2.15.0)\n",
            "Requirement already satisfied: dm-tree~=0.1.1 in /usr/local/lib/python3.11/dist-packages (from tensorflow-model-optimization<0.8.0->mediapipe-model-maker) (0.1.8)\n",
            "Requirement already satisfied: Cython in /usr/local/lib/python3.11/dist-packages (from tf-models-official<2.16.0,>=2.13.2->mediapipe-model-maker) (3.0.11)\n",
            "Requirement already satisfied: Pillow in /usr/local/lib/python3.11/dist-packages (from tf-models-official<2.16.0,>=2.13.2->mediapipe-model-maker) (11.1.0)\n",
            "Requirement already satisfied: gin-config in /usr/local/lib/python3.11/dist-packages (from tf-models-official<2.16.0,>=2.13.2->mediapipe-model-maker) (0.5.0)\n",
            "Requirement already satisfied: google-api-python-client>=1.6.7 in /usr/local/lib/python3.11/dist-packages (from tf-models-official<2.16.0,>=2.13.2->mediapipe-model-maker) (2.155.0)\n",
            "Requirement already satisfied: immutabledict in /usr/local/lib/python3.11/dist-packages (from tf-models-official<2.16.0,>=2.13.2->mediapipe-model-maker) (4.2.1)\n",
            "Requirement already satisfied: kaggle>=1.3.9 in /usr/local/lib/python3.11/dist-packages (from tf-models-official<2.16.0,>=2.13.2->mediapipe-model-maker) (1.6.17)\n",
            "Requirement already satisfied: oauth2client in /usr/local/lib/python3.11/dist-packages (from tf-models-official<2.16.0,>=2.13.2->mediapipe-model-maker) (4.1.3)\n",
            "Requirement already satisfied: opencv-python-headless in /usr/local/lib/python3.11/dist-packages (from tf-models-official<2.16.0,>=2.13.2->mediapipe-model-maker) (4.11.0.86)\n",
            "Requirement already satisfied: pandas>=0.22.0 in /usr/local/lib/python3.11/dist-packages (from tf-models-official<2.16.0,>=2.13.2->mediapipe-model-maker) (2.2.2)\n",
            "Requirement already satisfied: psutil>=5.4.3 in /usr/local/lib/python3.11/dist-packages (from tf-models-official<2.16.0,>=2.13.2->mediapipe-model-maker) (5.9.5)\n",
            "Requirement already satisfied: py-cpuinfo>=3.3.0 in /usr/local/lib/python3.11/dist-packages (from tf-models-official<2.16.0,>=2.13.2->mediapipe-model-maker) (9.0.0)\n",
            "Requirement already satisfied: pycocotools in /usr/local/lib/python3.11/dist-packages (from tf-models-official<2.16.0,>=2.13.2->mediapipe-model-maker) (2.0.8)\n",
            "Requirement already satisfied: pyyaml>=6.0.0 in /usr/local/lib/python3.11/dist-packages (from tf-models-official<2.16.0,>=2.13.2->mediapipe-model-maker) (6.0.2)\n",
            "Requirement already satisfied: sacrebleu in /usr/local/lib/python3.11/dist-packages (from tf-models-official<2.16.0,>=2.13.2->mediapipe-model-maker) (2.5.1)\n",
            "Requirement already satisfied: scipy>=0.19.1 in /usr/local/lib/python3.11/dist-packages (from tf-models-official<2.16.0,>=2.13.2->mediapipe-model-maker) (1.13.1)\n",
            "Requirement already satisfied: seqeval in /usr/local/lib/python3.11/dist-packages (from tf-models-official<2.16.0,>=2.13.2->mediapipe-model-maker) (1.2.2)\n",
            "Requirement already satisfied: tf-slim>=1.1.0 in /usr/local/lib/python3.11/dist-packages (from tf-models-official<2.16.0,>=2.13.2->mediapipe-model-maker) (1.1.0)\n",
            "Requirement already satisfied: tf-keras>=2.14.1 in /usr/local/lib/python3.11/dist-packages (from tensorflow-hub->mediapipe-model-maker) (2.15.1)\n",
            "Requirement already satisfied: typeguard<3.0.0,>=2.7 in /usr/local/lib/python3.11/dist-packages (from tensorflow-addons->mediapipe-model-maker) (2.13.3)\n",
            "Requirement already satisfied: click in /usr/local/lib/python3.11/dist-packages (from tensorflow-datasets->mediapipe-model-maker) (8.1.8)\n",
            "Requirement already satisfied: promise in /usr/local/lib/python3.11/dist-packages (from tensorflow-datasets->mediapipe-model-maker) (2.3)\n",
            "Requirement already satisfied: pyarrow in /usr/local/lib/python3.11/dist-packages (from tensorflow-datasets->mediapipe-model-maker) (17.0.0)\n",
            "Requirement already satisfied: requests>=2.19.0 in /usr/local/lib/python3.11/dist-packages (from tensorflow-datasets->mediapipe-model-maker) (2.32.3)\n",
            "Requirement already satisfied: simple-parsing in /usr/local/lib/python3.11/dist-packages (from tensorflow-datasets->mediapipe-model-maker) (0.1.7)\n",
            "Requirement already satisfied: tensorflow-metadata in /usr/local/lib/python3.11/dist-packages (from tensorflow-datasets->mediapipe-model-maker) (1.16.1)\n",
            "Requirement already satisfied: toml in /usr/local/lib/python3.11/dist-packages (from tensorflow-datasets->mediapipe-model-maker) (0.10.2)\n",
            "Requirement already satisfied: tqdm in /usr/local/lib/python3.11/dist-packages (from tensorflow-datasets->mediapipe-model-maker) (4.67.1)\n",
            "Requirement already satisfied: array-record>=0.5.0 in /usr/local/lib/python3.11/dist-packages (from tensorflow-datasets->mediapipe-model-maker) (0.6.0)\n",
            "Requirement already satisfied: etils>=1.9.1 in /usr/local/lib/python3.11/dist-packages (from etils[edc,enp,epath,epy,etree]>=1.9.1; python_version >= \"3.11\"->tensorflow-datasets->mediapipe-model-maker) (1.11.0)\n",
            "Requirement already satisfied: wheel<1.0,>=0.23.0 in /usr/local/lib/python3.11/dist-packages (from astunparse>=1.6.0->tensorflow<2.16,>=2.10->mediapipe-model-maker) (0.45.1)\n",
            "Requirement already satisfied: fsspec in /usr/local/lib/python3.11/dist-packages (from etils[edc,enp,epath,epy,etree]>=1.9.1; python_version >= \"3.11\"->tensorflow-datasets->mediapipe-model-maker) (2024.10.0)\n",
            "Requirement already satisfied: importlib_resources in /usr/local/lib/python3.11/dist-packages (from etils[edc,enp,epath,epy,etree]>=1.9.1; python_version >= \"3.11\"->tensorflow-datasets->mediapipe-model-maker) (6.5.2)\n",
            "Requirement already satisfied: zipp in /usr/local/lib/python3.11/dist-packages (from etils[edc,enp,epath,epy,etree]>=1.9.1; python_version >= \"3.11\"->tensorflow-datasets->mediapipe-model-maker) (3.21.0)\n",
            "Requirement already satisfied: httplib2<1.dev0,>=0.19.0 in /usr/local/lib/python3.11/dist-packages (from google-api-python-client>=1.6.7->tf-models-official<2.16.0,>=2.13.2->mediapipe-model-maker) (0.22.0)\n",
            "Requirement already satisfied: google-auth!=2.24.0,!=2.25.0,<3.0.0.dev0,>=1.32.0 in /usr/local/lib/python3.11/dist-packages (from google-api-python-client>=1.6.7->tf-models-official<2.16.0,>=2.13.2->mediapipe-model-maker) (2.27.0)\n",
            "Requirement already satisfied: google-auth-httplib2<1.0.0,>=0.2.0 in /usr/local/lib/python3.11/dist-packages (from google-api-python-client>=1.6.7->tf-models-official<2.16.0,>=2.13.2->mediapipe-model-maker) (0.2.0)\n",
            "Requirement already satisfied: google-api-core!=2.0.*,!=2.1.*,!=2.2.*,!=2.3.0,<3.0.0.dev0,>=1.31.5 in /usr/local/lib/python3.11/dist-packages (from google-api-python-client>=1.6.7->tf-models-official<2.16.0,>=2.13.2->mediapipe-model-maker) (2.19.2)\n",
            "Requirement already satisfied: uritemplate<5,>=3.0.1 in /usr/local/lib/python3.11/dist-packages (from google-api-python-client>=1.6.7->tf-models-official<2.16.0,>=2.13.2->mediapipe-model-maker) (4.1.1)\n",
            "Requirement already satisfied: certifi>=2023.7.22 in /usr/local/lib/python3.11/dist-packages (from kaggle>=1.3.9->tf-models-official<2.16.0,>=2.13.2->mediapipe-model-maker) (2024.12.14)\n",
            "Requirement already satisfied: python-dateutil in /usr/local/lib/python3.11/dist-packages (from kaggle>=1.3.9->tf-models-official<2.16.0,>=2.13.2->mediapipe-model-maker) (2.8.2)\n",
            "Requirement already satisfied: python-slugify in /usr/local/lib/python3.11/dist-packages (from kaggle>=1.3.9->tf-models-official<2.16.0,>=2.13.2->mediapipe-model-maker) (8.0.4)\n",
            "Requirement already satisfied: urllib3 in /usr/local/lib/python3.11/dist-packages (from kaggle>=1.3.9->tf-models-official<2.16.0,>=2.13.2->mediapipe-model-maker) (2.3.0)\n",
            "Requirement already satisfied: bleach in /usr/local/lib/python3.11/dist-packages (from kaggle>=1.3.9->tf-models-official<2.16.0,>=2.13.2->mediapipe-model-maker) (6.2.0)\n",
            "Requirement already satisfied: pytz>=2020.1 in /usr/local/lib/python3.11/dist-packages (from pandas>=0.22.0->tf-models-official<2.16.0,>=2.13.2->mediapipe-model-maker) (2024.2)\n",
            "Requirement already satisfied: tzdata>=2022.7 in /usr/local/lib/python3.11/dist-packages (from pandas>=0.22.0->tf-models-official<2.16.0,>=2.13.2->mediapipe-model-maker) (2025.1)\n",
            "Requirement already satisfied: charset-normalizer<4,>=2 in /usr/local/lib/python3.11/dist-packages (from requests>=2.19.0->tensorflow-datasets->mediapipe-model-maker) (3.4.1)\n",
            "Requirement already satisfied: idna<4,>=2.5 in /usr/local/lib/python3.11/dist-packages (from requests>=2.19.0->tensorflow-datasets->mediapipe-model-maker) (3.10)\n",
            "Requirement already satisfied: CFFI>=1.0 in /usr/local/lib/python3.11/dist-packages (from sounddevice>=0.4.4->mediapipe>=0.10.0->mediapipe-model-maker) (1.17.1)\n",
            "Requirement already satisfied: google-auth-oauthlib<2,>=0.5 in /usr/local/lib/python3.11/dist-packages (from tensorboard<2.16,>=2.15->tensorflow<2.16,>=2.10->mediapipe-model-maker) (1.2.1)\n",
            "Requirement already satisfied: markdown>=2.6.8 in /usr/local/lib/python3.11/dist-packages (from tensorboard<2.16,>=2.15->tensorflow<2.16,>=2.10->mediapipe-model-maker) (3.7)\n",
            "Requirement already satisfied: tensorboard-data-server<0.8.0,>=0.7.0 in /usr/local/lib/python3.11/dist-packages (from tensorboard<2.16,>=2.15->tensorflow<2.16,>=2.10->mediapipe-model-maker) (0.7.2)\n",
            "Requirement already satisfied: werkzeug>=1.0.1 in /usr/local/lib/python3.11/dist-packages (from tensorboard<2.16,>=2.15->tensorflow<2.16,>=2.10->mediapipe-model-maker) (3.1.3)\n",
            "Requirement already satisfied: contourpy>=1.0.1 in /usr/local/lib/python3.11/dist-packages (from matplotlib->mediapipe>=0.10.0->mediapipe-model-maker) (1.3.1)\n",
            "Requirement already satisfied: cycler>=0.10 in /usr/local/lib/python3.11/dist-packages (from matplotlib->mediapipe>=0.10.0->mediapipe-model-maker) (0.12.1)\n",
            "Requirement already satisfied: fonttools>=4.22.0 in /usr/local/lib/python3.11/dist-packages (from matplotlib->mediapipe>=0.10.0->mediapipe-model-maker) (4.55.7)\n",
            "Requirement already satisfied: kiwisolver>=1.3.1 in /usr/local/lib/python3.11/dist-packages (from matplotlib->mediapipe>=0.10.0->mediapipe-model-maker) (1.4.8)\n",
            "Requirement already satisfied: pyparsing>=2.3.1 in /usr/local/lib/python3.11/dist-packages (from matplotlib->mediapipe>=0.10.0->mediapipe-model-maker) (3.2.1)\n",
            "Requirement already satisfied: pyasn1>=0.1.7 in /usr/local/lib/python3.11/dist-packages (from oauth2client->tf-models-official<2.16.0,>=2.13.2->mediapipe-model-maker) (0.6.1)\n",
            "Requirement already satisfied: pyasn1-modules>=0.0.5 in /usr/local/lib/python3.11/dist-packages (from oauth2client->tf-models-official<2.16.0,>=2.13.2->mediapipe-model-maker) (0.4.1)\n",
            "Requirement already satisfied: rsa>=3.1.4 in /usr/local/lib/python3.11/dist-packages (from oauth2client->tf-models-official<2.16.0,>=2.13.2->mediapipe-model-maker) (4.9)\n",
            "Requirement already satisfied: portalocker in /usr/local/lib/python3.11/dist-packages (from sacrebleu->tf-models-official<2.16.0,>=2.13.2->mediapipe-model-maker) (3.1.1)\n",
            "Requirement already satisfied: regex in /usr/local/lib/python3.11/dist-packages (from sacrebleu->tf-models-official<2.16.0,>=2.13.2->mediapipe-model-maker) (2024.11.6)\n",
            "Requirement already satisfied: tabulate>=0.8.9 in /usr/local/lib/python3.11/dist-packages (from sacrebleu->tf-models-official<2.16.0,>=2.13.2->mediapipe-model-maker) (0.9.0)\n",
            "Requirement already satisfied: colorama in /usr/local/lib/python3.11/dist-packages (from sacrebleu->tf-models-official<2.16.0,>=2.13.2->mediapipe-model-maker) (0.4.6)\n",
            "Requirement already satisfied: lxml in /usr/local/lib/python3.11/dist-packages (from sacrebleu->tf-models-official<2.16.0,>=2.13.2->mediapipe-model-maker) (5.3.0)\n",
            "Requirement already satisfied: scikit-learn>=0.21.3 in /usr/local/lib/python3.11/dist-packages (from seqeval->tf-models-official<2.16.0,>=2.13.2->mediapipe-model-maker) (1.6.1)\n",
            "Requirement already satisfied: docstring-parser<1.0,>=0.15 in /usr/local/lib/python3.11/dist-packages (from simple-parsing->tensorflow-datasets->mediapipe-model-maker) (0.16)\n",
            "Requirement already satisfied: googleapis-common-protos<2,>=1.56.4 in /usr/local/lib/python3.11/dist-packages (from tensorflow-metadata->tensorflow-datasets->mediapipe-model-maker) (1.66.0)\n",
            "Requirement already satisfied: pycparser in /usr/local/lib/python3.11/dist-packages (from CFFI>=1.0->sounddevice>=0.4.4->mediapipe>=0.10.0->mediapipe-model-maker) (2.22)\n",
            "Requirement already satisfied: proto-plus<2.0.0dev,>=1.22.3 in /usr/local/lib/python3.11/dist-packages (from google-api-core!=2.0.*,!=2.1.*,!=2.2.*,!=2.3.0,<3.0.0.dev0,>=1.31.5->google-api-python-client>=1.6.7->tf-models-official<2.16.0,>=2.13.2->mediapipe-model-maker) (1.26.0)\n",
            "Requirement already satisfied: cachetools<6.0,>=2.0.0 in /usr/local/lib/python3.11/dist-packages (from google-auth!=2.24.0,!=2.25.0,<3.0.0.dev0,>=1.32.0->google-api-python-client>=1.6.7->tf-models-official<2.16.0,>=2.13.2->mediapipe-model-maker) (5.5.1)\n",
            "Requirement already satisfied: requests-oauthlib>=0.7.0 in /usr/local/lib/python3.11/dist-packages (from google-auth-oauthlib<2,>=0.5->tensorboard<2.16,>=2.15->tensorflow<2.16,>=2.10->mediapipe-model-maker) (1.3.1)\n",
            "Requirement already satisfied: joblib>=1.2.0 in /usr/local/lib/python3.11/dist-packages (from scikit-learn>=0.21.3->seqeval->tf-models-official<2.16.0,>=2.13.2->mediapipe-model-maker) (1.4.2)\n",
            "Requirement already satisfied: threadpoolctl>=3.1.0 in /usr/local/lib/python3.11/dist-packages (from scikit-learn>=0.21.3->seqeval->tf-models-official<2.16.0,>=2.13.2->mediapipe-model-maker) (3.5.0)\n",
            "Requirement already satisfied: MarkupSafe>=2.1.1 in /usr/local/lib/python3.11/dist-packages (from werkzeug>=1.0.1->tensorboard<2.16,>=2.15->tensorflow<2.16,>=2.10->mediapipe-model-maker) (3.0.2)\n",
            "Requirement already satisfied: webencodings in /usr/local/lib/python3.11/dist-packages (from bleach->kaggle>=1.3.9->tf-models-official<2.16.0,>=2.13.2->mediapipe-model-maker) (0.5.1)\n",
            "Requirement already satisfied: text-unidecode>=1.3 in /usr/local/lib/python3.11/dist-packages (from python-slugify->kaggle>=1.3.9->tf-models-official<2.16.0,>=2.13.2->mediapipe-model-maker) (1.3)\n",
            "Requirement already satisfied: oauthlib>=3.0.0 in /usr/local/lib/python3.11/dist-packages (from requests-oauthlib>=0.7.0->google-auth-oauthlib<2,>=0.5->tensorboard<2.16,>=2.15->tensorflow<2.16,>=2.10->mediapipe-model-maker) (3.2.2)\n"
          ]
        }
      ],
      "source": [
        "!pip install --upgrade pip\n",
        "!pip install mediapipe-model-maker"
      ]
    },
    {
      "cell_type": "code",
      "execution_count": null,
      "metadata": {
        "id": "Oj2Z0U25byZT"
      },
      "outputs": [],
      "source": [
        "from google.colab import files\n",
        "import os\n",
        "import tensorflow as tf\n",
        "assert tf.__version__.startswith('2')\n",
        "\n",
        "from mediapipe_model_maker import image_classifier\n",
        "\n",
        "import matplotlib.pyplot as plt"
      ]
    },
    {
      "cell_type": "markdown",
      "metadata": {
        "id": "xtYUcoU0Wwaa"
      },
      "source": [
        "## Loading Dataset"
      ]
    },
    {
      "cell_type": "code",
      "execution_count": null,
      "metadata": {
        "colab": {
          "base_uri": "https://localhost:8080/"
        },
        "id": "56cIsfwK5YQY",
        "outputId": "c5024523-f2c4-4cf2-f7bf-505a3e71847c"
      },
      "outputs": [
        {
          "name": "stdout",
          "output_type": "stream",
          "text": [
            "Drive already mounted at /content/drive; to attempt to forcibly remount, call drive.mount(\"/content/drive\", force_remount=True).\n"
          ]
        }
      ],
      "source": [
        "#save final weights to google drive\n",
        "from google.colab import drive\n",
        "drive.mount('/content/drive')"
      ]
    },
    {
      "cell_type": "code",
      "execution_count": null,
      "metadata": {
        "colab": {
          "base_uri": "https://localhost:8080/"
        },
        "id": "pRUe01fg1wmG",
        "outputId": "ff797950-425a-49b7-95a4-3c1a2356336c"
      },
      "outputs": [
        {
          "name": "stdout",
          "output_type": "stream",
          "text": [
            "Archive:  /content/drive/MyDrive/2023FlutterML/FruitsDataset.zip\n",
            "   creating: FruitsDataset/\n",
            "   creating: FruitsDataset/bananas/\n",
            "   creating: FruitsDataset/pineapples/\n",
            "  inflating: FruitsDataset/.DS_Store  \n",
            "  inflating: __MACOSX/FruitsDataset/._.DS_Store  \n",
            "   creating: FruitsDataset/watermelons/\n",
            "   creating: FruitsDataset/apples/\n",
            "  inflating: FruitsDataset/bananas/49.jpg  \n",
            "  inflating: FruitsDataset/bananas/8.jpg  \n",
            "  inflating: FruitsDataset/bananas/9.jpg  \n",
            "  inflating: FruitsDataset/bananas/14.jpg  \n",
            "  inflating: FruitsDataset/bananas/28.jpg  \n",
            "  inflating: FruitsDataset/bananas/29.jpg  \n",
            "  inflating: FruitsDataset/bananas/15.jpg  \n",
            "  inflating: FruitsDataset/bananas/17.jpg  \n",
            "  inflating: FruitsDataset/bananas/16.jpg  \n",
            "  inflating: FruitsDataset/bananas/12.jpg  \n",
            "  inflating: FruitsDataset/bananas/13.jpg  \n",
            "  inflating: FruitsDataset/bananas/39.jpg  \n",
            "  inflating: FruitsDataset/bananas/11.jpg  \n",
            "  inflating: FruitsDataset/bananas/10.jpg  \n",
            "  inflating: FruitsDataset/bananas/38.jpg  \n",
            "  inflating: FruitsDataset/bananas/21.jpg  \n",
            "  inflating: FruitsDataset/bananas/35.jpg  \n",
            "  inflating: FruitsDataset/bananas/34.jpg  \n",
            "  inflating: FruitsDataset/bananas/36.jpg  \n",
            "  inflating: FruitsDataset/bananas/22.jpg  \n",
            "  inflating: FruitsDataset/bananas/23.jpg  \n",
            "  inflating: FruitsDataset/bananas/37.jpg  \n",
            "  inflating: FruitsDataset/bananas/27.jpg  \n",
            "  inflating: FruitsDataset/bananas/26.jpg  \n",
            "  inflating: FruitsDataset/bananas/32.jpg  \n",
            "  inflating: FruitsDataset/bananas/30.jpg  \n",
            "  inflating: FruitsDataset/bananas/31.jpg  \n",
            "  inflating: FruitsDataset/bananas/42.jpg  \n",
            "  inflating: FruitsDataset/bananas/4.jpg  \n",
            "  inflating: FruitsDataset/bananas/5.jpg  \n",
            "  inflating: FruitsDataset/bananas/43.jpg  \n",
            "  inflating: FruitsDataset/bananas/40.jpg  \n",
            "  inflating: FruitsDataset/bananas/54.jpg  \n",
            "  inflating: FruitsDataset/bananas/6.jpg  \n",
            "  inflating: FruitsDataset/bananas/2.jpg  \n",
            "  inflating: FruitsDataset/bananas/50.jpg  \n",
            "  inflating: FruitsDataset/bananas/3.jpg  \n",
            "  inflating: FruitsDataset/bananas/51.jpg  \n",
            "  inflating: FruitsDataset/bananas/47.jpg  \n",
            "  inflating: FruitsDataset/bananas/53.jpg  \n",
            "  inflating: FruitsDataset/bananas/1.jpg  \n",
            "  inflating: FruitsDataset/bananas/52.jpg  \n",
            "  inflating: FruitsDataset/pineapples/48.jpg  \n",
            "  inflating: FruitsDataset/pineapples/9.jpg  \n",
            "  inflating: FruitsDataset/pineapples/14.jpg  \n",
            "  inflating: FruitsDataset/pineapples/17.jpg  \n",
            "  inflating: FruitsDataset/pineapples/16.jpg  \n",
            "  inflating: FruitsDataset/pineapples/12.jpg  \n",
            "  inflating: FruitsDataset/pineapples/13.jpg  \n",
            "  inflating: FruitsDataset/pineapples/11.jpg  \n",
            "  inflating: FruitsDataset/pineapples/38.jpg  \n",
            "  inflating: FruitsDataset/pineapples/21.jpg  \n",
            "  inflating: FruitsDataset/pineapples/35.jpg  \n",
            "  inflating: FruitsDataset/pineapples/20.jpg  \n",
            "  inflating: FruitsDataset/pineapples/36.jpg  \n",
            "  inflating: FruitsDataset/pineapples/22.jpg  \n",
            "  inflating: FruitsDataset/pineapples/23.jpg  \n",
            "  inflating: FruitsDataset/pineapples/33.jpg  \n",
            "  inflating: FruitsDataset/pineapples/27.jpg  \n",
            "  inflating: FruitsDataset/pineapples/32.jpg  \n",
            "  inflating: FruitsDataset/pineapples/18.jpg  \n",
            "  inflating: FruitsDataset/pineapples/24.jpg  \n",
            "  inflating: FruitsDataset/pineapples/31.jpg  \n",
            "  inflating: FruitsDataset/pineapples/25.jpg  \n",
            "  inflating: FruitsDataset/pineapples/19.jpg  \n",
            "  inflating: FruitsDataset/pineapples/4.jpg  \n",
            "  inflating: FruitsDataset/pineapples/7.jpg  \n",
            "  inflating: FruitsDataset/pineapples/41.jpg  \n",
            "  inflating: FruitsDataset/pineapples/40.jpg  \n",
            "  inflating: FruitsDataset/pineapples/6.jpg  \n",
            "  inflating: FruitsDataset/pineapples/2.jpg  \n",
            "  inflating: FruitsDataset/pineapples/50.jpg  \n",
            "  inflating: FruitsDataset/pineapples/44.jpg  \n",
            "  inflating: FruitsDataset/pineapples/53.jpg  \n",
            "  inflating: FruitsDataset/pineapples/1.jpg  \n",
            "  inflating: FruitsDataset/pineapples/52.jpg  \n",
            "  inflating: FruitsDataset/watermelons/48.jpg  \n",
            "  inflating: FruitsDataset/watermelons/49.jpg  \n",
            "  inflating: FruitsDataset/watermelons/8.jpg  \n",
            "  inflating: FruitsDataset/watermelons/9.jpg  \n",
            "  inflating: FruitsDataset/watermelons/14.jpg  \n",
            "  inflating: FruitsDataset/watermelons/28.jpg  \n",
            "  inflating: FruitsDataset/watermelons/16.jpg  \n",
            "  inflating: FruitsDataset/watermelons/12.jpg  \n",
            "  inflating: FruitsDataset/watermelons/13.jpg  \n",
            "  inflating: FruitsDataset/watermelons/10.jpg  \n",
            "  inflating: FruitsDataset/watermelons/38.jpg  \n",
            "  inflating: FruitsDataset/watermelons/21.jpg  \n",
            "  inflating: FruitsDataset/watermelons/20.jpg  \n",
            "  inflating: FruitsDataset/watermelons/23.jpg  \n",
            "  inflating: FruitsDataset/watermelons/37.jpg  \n",
            "  inflating: FruitsDataset/watermelons/27.jpg  \n",
            "  inflating: FruitsDataset/watermelons/18.jpg  \n",
            "  inflating: FruitsDataset/watermelons/24.jpg  \n",
            "  inflating: FruitsDataset/watermelons/30.jpg  \n",
            "  inflating: FruitsDataset/watermelons/42.jpg  \n",
            "  inflating: FruitsDataset/watermelons/4.jpg  \n",
            "  inflating: FruitsDataset/watermelons/5.jpg  \n",
            "  inflating: FruitsDataset/watermelons/7.jpg  \n",
            "  inflating: FruitsDataset/watermelons/2.jpg  \n",
            "  inflating: FruitsDataset/watermelons/50.jpg  \n",
            "  inflating: FruitsDataset/watermelons/3.jpg  \n",
            "  inflating: FruitsDataset/watermelons/47.jpg  \n",
            "  inflating: FruitsDataset/watermelons/53.jpg  \n",
            "  inflating: FruitsDataset/watermelons/1.jpg  \n",
            "  inflating: FruitsDataset/watermelons/52.jpg  \n",
            "  inflating: FruitsDataset/watermelons/46.jpg  \n",
            "  inflating: FruitsDataset/apples/49.jpg  \n",
            "  inflating: FruitsDataset/apples/8.jpg  \n",
            "  inflating: FruitsDataset/apples/9.jpg  \n",
            "  inflating: FruitsDataset/apples/14.jpg  \n",
            "  inflating: FruitsDataset/apples/28.jpg  \n",
            "  inflating: FruitsDataset/apples/15.jpg  \n",
            "  inflating: FruitsDataset/apples/17.jpg  \n",
            "  inflating: FruitsDataset/apples/16.jpg  \n",
            "  inflating: FruitsDataset/apples/12.jpg  \n",
            "  inflating: FruitsDataset/apples/13.jpg  \n",
            "  inflating: FruitsDataset/apples/11.jpg  \n",
            "  inflating: FruitsDataset/apples/10.jpg  \n",
            "  inflating: FruitsDataset/apples/38.jpg  \n",
            "  inflating: FruitsDataset/apples/35.jpg  \n",
            "  inflating: FruitsDataset/apples/34.jpg  \n",
            "  inflating: FruitsDataset/apples/20.jpg  \n",
            "  inflating: FruitsDataset/apples/22.jpg  \n",
            "  inflating: FruitsDataset/apples/23.jpg  \n",
            "  inflating: FruitsDataset/apples/26.jpg  \n",
            "  inflating: FruitsDataset/apples/32.jpg  \n",
            "  inflating: FruitsDataset/apples/24.jpg  \n",
            "  inflating: FruitsDataset/apples/25.jpg  \n",
            "  inflating: FruitsDataset/apples/19.jpg  \n",
            "  inflating: FruitsDataset/apples/42.jpg  \n",
            "  inflating: FruitsDataset/apples/4.jpg  \n",
            "  inflating: FruitsDataset/apples/55.jpg  \n",
            "  inflating: FruitsDataset/apples/7.jpg  \n",
            "  inflating: FruitsDataset/apples/41.jpg  \n",
            "  inflating: FruitsDataset/apples/40.jpg  \n",
            "  inflating: FruitsDataset/apples/54.jpg  \n",
            "  inflating: FruitsDataset/apples/2.jpg  \n",
            "  inflating: FruitsDataset/apples/50.jpg  \n",
            "  inflating: FruitsDataset/apples/3.jpg  \n",
            "  inflating: FruitsDataset/apples/47.jpg  \n",
            "  inflating: FruitsDataset/apples/1.jpg  \n",
            "  inflating: FruitsDataset/apples/52.jpg  \n",
            "  inflating: FruitsDataset/apples/0.jpg  \n",
            "  inflating: FruitsDataset/apples/46.jpg  \n"
          ]
        }
      ],
      "source": [
        "zip_file_name = \"/content/drive/MyDrive/FruitsDataset\" #@param {type:\"string\"}\n",
        "!unzip {zip_file_name}.zip"
      ]
    },
    {
      "cell_type": "code",
      "execution_count": null,
      "metadata": {
        "id": "8h1bxmGDqjvq"
      },
      "outputs": [],
      "source": [
        "image_path = '/content/dataset'"
      ]
    },
    {
      "cell_type": "code",
      "execution_count": null,
      "metadata": {
        "colab": {
          "base_uri": "https://localhost:8080/"
        },
        "id": "H6h7tu1tdcGp",
        "outputId": "74041f46-b4bf-4e2f-d591-d9767a47efac"
      },
      "outputs": [
        {
          "name": "stdout",
          "output_type": "stream",
          "text": [
            "/content/dataset\n",
            "['onion', 'watermelon', 'banana', 'lemon', 'potato', 'apple']\n"
          ]
        }
      ],
      "source": [
        "print(image_path)\n",
        "labels = []\n",
        "for i in os.listdir(image_path):\n",
        "  if os.path.isdir(os.path.join(image_path, i)):\n",
        "    labels.append(i)\n",
        "print(labels)"
      ]
    },
    {
      "cell_type": "code",
      "execution_count": null,
      "metadata": {
        "id": "G-csvUN1dheJ"
      },
      "outputs": [],
      "source": [
        "NUM_EXAMPLES = 5\n",
        "\n",
        "for label in labels:\n",
        "  label_dir = os.path.join(image_path, label)\n",
        "  example_filenames = os.listdir(label_dir)[:NUM_EXAMPLES]\n",
        "  fig, axs = plt.subplots(1, NUM_EXAMPLES, figsize=(10,2))\n",
        "  for i in range(NUM_EXAMPLES):\n",
        "    axs[i].imshow(plt.imread(os.path.join(label_dir, example_filenames[i])))\n",
        "    axs[i].get_xaxis().set_visible(False)\n",
        "    axs[i].get_yaxis().set_visible(False)\n",
        "  fig.suptitle(f'Showing {NUM_EXAMPLES} examples for {label}')\n",
        "\n",
        "plt.show()"
      ]
    },
    {
      "cell_type": "code",
      "execution_count": null,
      "metadata": {
        "id": "MKJP_8wudnI5"
      },
      "outputs": [],
      "source": [
        "data = image_classifier.Dataset.from_folder(image_path)\n",
        "train_data, remaining_data = data.split(0.9)\n",
        "test_data, validation_data = remaining_data.split(0.5)"
      ]
    },
    {
      "cell_type": "code",
      "execution_count": null,
      "metadata": {
        "id": "P2-1IxmXdrYh"
      },
      "outputs": [],
      "source": [
        "spec = image_classifier.SupportedModels.EFFICIENTNET_LITE2\n",
        "hparams = image_classifier.HParams(export_dir=\"exported_model\",epochs=50)\n",
        "options = image_classifier.ImageClassifierOptions(supported_model=spec, hparams=hparams)"
      ]
    },
    {
      "cell_type": "code",
      "execution_count": null,
      "metadata": {
        "colab": {
          "base_uri": "https://localhost:8080/"
        },
        "id": "xgPL3hMAdvah",
        "outputId": "955c9b86-a7e0-4816-ccf6-0a6d3bab7bfc"
      },
      "outputs": [
        {
          "name": "stderr",
          "output_type": "stream",
          "text": [
            "WARNING:tensorflow:`period` argument is deprecated. Please use `save_freq` to specify the frequency in number of batches seen.\n"
          ]
        },
        {
          "name": "stdout",
          "output_type": "stream",
          "text": [
            "Model: \"sequential_3\"\n",
            "_________________________________________________________________\n",
            " Layer (type)                Output Shape              Param #   \n",
            "=================================================================\n",
            " keras_layer_3 (KerasLayer)  (None, 1280)              4869168   \n",
            "                                                                 \n",
            " dropout_3 (Dropout)         (None, 1280)              0         \n",
            "                                                                 \n",
            " dense_3 (Dense)             (None, 6)                 7686      \n",
            "                                                                 \n",
            "=================================================================\n",
            "Total params: 4876854 (18.60 MB)\n",
            "Trainable params: 7686 (30.02 KB)\n",
            "Non-trainable params: 4869168 (18.57 MB)\n",
            "_________________________________________________________________\n",
            "None\n",
            "Resuming from exported_model/checkpoint/model-0008\n",
            "Epoch 1/50\n",
            "216/216 [==============================] - 68s 299ms/step - loss: 0.7495 - accuracy: 0.9167 - val_loss: 0.6895 - val_accuracy: 1.0000\n",
            "Epoch 2/50\n",
            "216/216 [==============================] - 62s 288ms/step - loss: 0.7028 - accuracy: 0.9444 - val_loss: 0.6543 - val_accuracy: 1.0000\n",
            "Epoch 3/50\n",
            "216/216 [==============================] - 74s 340ms/step - loss: 0.6849 - accuracy: 0.9398 - val_loss: 0.6274 - val_accuracy: 1.0000\n",
            "Epoch 4/50\n",
            "216/216 [==============================] - 68s 312ms/step - loss: 0.6619 - accuracy: 0.9398 - val_loss: 0.6078 - val_accuracy: 1.0000\n",
            "Epoch 5/50\n",
            "216/216 [==============================] - 68s 313ms/step - loss: 0.6415 - accuracy: 0.9491 - val_loss: 0.5899 - val_accuracy: 1.0000\n",
            "Epoch 6/50\n",
            "216/216 [==============================] - 67s 309ms/step - loss: 0.6244 - accuracy: 0.9583 - val_loss: 0.5755 - val_accuracy: 1.0000\n",
            "Epoch 7/50\n",
            "216/216 [==============================] - 70s 326ms/step - loss: 0.6195 - accuracy: 0.9514 - val_loss: 0.5665 - val_accuracy: 0.9600\n",
            "Epoch 8/50\n",
            "216/216 [==============================] - 62s 289ms/step - loss: 0.6007 - accuracy: 0.9468 - val_loss: 0.5580 - val_accuracy: 0.9600\n",
            "Epoch 9/50\n",
            "216/216 [==============================] - 67s 308ms/step - loss: 0.5793 - accuracy: 0.9630 - val_loss: 0.5522 - val_accuracy: 0.9600\n",
            "Epoch 10/50\n",
            "216/216 [==============================] - 62s 286ms/step - loss: 0.5870 - accuracy: 0.9630 - val_loss: 0.5467 - val_accuracy: 0.9600\n",
            "Epoch 11/50\n",
            "216/216 [==============================] - 65s 302ms/step - loss: 0.5894 - accuracy: 0.9583 - val_loss: 0.5421 - val_accuracy: 0.9600\n",
            "Epoch 12/50\n",
            "216/216 [==============================] - 68s 313ms/step - loss: 0.6004 - accuracy: 0.9468 - val_loss: 0.5381 - val_accuracy: 0.9600\n",
            "Epoch 13/50\n",
            "216/216 [==============================] - 68s 314ms/step - loss: 0.5752 - accuracy: 0.9699 - val_loss: 0.5339 - val_accuracy: 0.9600\n",
            "Epoch 14/50\n",
            "216/216 [==============================] - 67s 312ms/step - loss: 0.5680 - accuracy: 0.9699 - val_loss: 0.5316 - val_accuracy: 0.9600\n",
            "Epoch 15/50\n",
            "216/216 [==============================] - 69s 321ms/step - loss: 0.5575 - accuracy: 0.9676 - val_loss: 0.5293 - val_accuracy: 0.9600\n",
            "Epoch 16/50\n",
            "216/216 [==============================] - 68s 313ms/step - loss: 0.5595 - accuracy: 0.9722 - val_loss: 0.5281 - val_accuracy: 0.9600\n",
            "Epoch 17/50\n",
            "216/216 [==============================] - 61s 281ms/step - loss: 0.5580 - accuracy: 0.9606 - val_loss: 0.5270 - val_accuracy: 0.9600\n",
            "Epoch 18/50\n",
            "216/216 [==============================] - 62s 286ms/step - loss: 0.5690 - accuracy: 0.9630 - val_loss: 0.5264 - val_accuracy: 0.9600\n",
            "Epoch 19/50\n",
            "216/216 [==============================] - 68s 314ms/step - loss: 0.5828 - accuracy: 0.9491 - val_loss: 0.5243 - val_accuracy: 0.9600\n",
            "Epoch 20/50\n",
            "216/216 [==============================] - 71s 327ms/step - loss: 0.5604 - accuracy: 0.9722 - val_loss: 0.5215 - val_accuracy: 0.9600\n",
            "Epoch 21/50\n",
            "216/216 [==============================] - 68s 316ms/step - loss: 0.5599 - accuracy: 0.9630 - val_loss: 0.5215 - val_accuracy: 0.9600\n",
            "Epoch 22/50\n",
            "216/216 [==============================] - 69s 317ms/step - loss: 0.5501 - accuracy: 0.9769 - val_loss: 0.5200 - val_accuracy: 0.9600\n",
            "Epoch 23/50\n",
            "216/216 [==============================] - 67s 309ms/step - loss: 0.5459 - accuracy: 0.9676 - val_loss: 0.5191 - val_accuracy: 0.9600\n",
            "Epoch 24/50\n",
            "216/216 [==============================] - 71s 329ms/step - loss: 0.5356 - accuracy: 0.9838 - val_loss: 0.5193 - val_accuracy: 0.9600\n",
            "Epoch 25/50\n",
            "216/216 [==============================] - 68s 315ms/step - loss: 0.5520 - accuracy: 0.9653 - val_loss: 0.5192 - val_accuracy: 0.9600\n",
            "Epoch 26/50\n",
            "216/216 [==============================] - 67s 311ms/step - loss: 0.5428 - accuracy: 0.9769 - val_loss: 0.5169 - val_accuracy: 0.9600\n",
            "Epoch 27/50\n",
            "216/216 [==============================] - 68s 313ms/step - loss: 0.5526 - accuracy: 0.9583 - val_loss: 0.5167 - val_accuracy: 0.9600\n",
            "Epoch 28/50\n",
            "216/216 [==============================] - 68s 316ms/step - loss: 0.5510 - accuracy: 0.9653 - val_loss: 0.5162 - val_accuracy: 0.9600\n",
            "Epoch 29/50\n",
            "216/216 [==============================] - 68s 316ms/step - loss: 0.5268 - accuracy: 0.9792 - val_loss: 0.5156 - val_accuracy: 0.9600\n",
            "Epoch 30/50\n",
            "216/216 [==============================] - 68s 314ms/step - loss: 0.5420 - accuracy: 0.9745 - val_loss: 0.5152 - val_accuracy: 0.9600\n",
            "Epoch 31/50\n",
            "216/216 [==============================] - 67s 311ms/step - loss: 0.5480 - accuracy: 0.9653 - val_loss: 0.5139 - val_accuracy: 0.9600\n",
            "Epoch 32/50\n",
            "216/216 [==============================] - 68s 314ms/step - loss: 0.5455 - accuracy: 0.9653 - val_loss: 0.5158 - val_accuracy: 0.9600\n",
            "Epoch 33/50\n",
            "216/216 [==============================] - 62s 284ms/step - loss: 0.5419 - accuracy: 0.9722 - val_loss: 0.5150 - val_accuracy: 0.9600\n",
            "Epoch 34/50\n",
            "216/216 [==============================] - 68s 314ms/step - loss: 0.5460 - accuracy: 0.9722 - val_loss: 0.5144 - val_accuracy: 0.9600\n",
            "Epoch 35/50\n",
            "216/216 [==============================] - 62s 285ms/step - loss: 0.5345 - accuracy: 0.9745 - val_loss: 0.5151 - val_accuracy: 0.9600\n",
            "Epoch 36/50\n",
            "216/216 [==============================] - 68s 313ms/step - loss: 0.5342 - accuracy: 0.9699 - val_loss: 0.5155 - val_accuracy: 0.9600\n",
            "Epoch 37/50\n",
            "216/216 [==============================] - 62s 288ms/step - loss: 0.5433 - accuracy: 0.9653 - val_loss: 0.5131 - val_accuracy: 0.9600\n",
            "Epoch 38/50\n",
            "216/216 [==============================] - 68s 316ms/step - loss: 0.5361 - accuracy: 0.9745 - val_loss: 0.5164 - val_accuracy: 0.9600\n",
            "Epoch 39/50\n",
            "216/216 [==============================] - 63s 289ms/step - loss: 0.5259 - accuracy: 0.9815 - val_loss: 0.5140 - val_accuracy: 0.9600\n",
            "Epoch 40/50\n",
            "216/216 [==============================] - 67s 312ms/step - loss: 0.5475 - accuracy: 0.9722 - val_loss: 0.5122 - val_accuracy: 0.9600\n",
            "Epoch 41/50\n",
            "216/216 [==============================] - 68s 314ms/step - loss: 0.5388 - accuracy: 0.9769 - val_loss: 0.5132 - val_accuracy: 0.9600\n",
            "Epoch 42/50\n",
            "216/216 [==============================] - 75s 345ms/step - loss: 0.5361 - accuracy: 0.9745 - val_loss: 0.5113 - val_accuracy: 0.9600\n",
            "Epoch 43/50\n",
            "216/216 [==============================] - 63s 290ms/step - loss: 0.5277 - accuracy: 0.9769 - val_loss: 0.5116 - val_accuracy: 0.9600\n",
            "Epoch 44/50\n",
            "216/216 [==============================] - 68s 316ms/step - loss: 0.5452 - accuracy: 0.9699 - val_loss: 0.5122 - val_accuracy: 0.9600\n",
            "Epoch 45/50\n",
            "216/216 [==============================] - 67s 310ms/step - loss: 0.5259 - accuracy: 0.9745 - val_loss: 0.5109 - val_accuracy: 0.9600\n",
            "Epoch 46/50\n",
            "216/216 [==============================] - 62s 288ms/step - loss: 0.5461 - accuracy: 0.9653 - val_loss: 0.5106 - val_accuracy: 0.9600\n",
            "Epoch 47/50\n",
            "216/216 [==============================] - 62s 286ms/step - loss: 0.5408 - accuracy: 0.9699 - val_loss: 0.5104 - val_accuracy: 0.9600\n",
            "Epoch 48/50\n",
            "216/216 [==============================] - 68s 314ms/step - loss: 0.5416 - accuracy: 0.9745 - val_loss: 0.5103 - val_accuracy: 0.9600\n",
            "Epoch 49/50\n",
            "216/216 [==============================] - 62s 289ms/step - loss: 0.5368 - accuracy: 0.9745 - val_loss: 0.5112 - val_accuracy: 0.9600\n",
            "Epoch 50/50\n",
            "216/216 [==============================] - 68s 315ms/step - loss: 0.5220 - accuracy: 0.9769 - val_loss: 0.5100 - val_accuracy: 0.9600\n"
          ]
        }
      ],
      "source": [
        "model = image_classifier.ImageClassifier.create(\n",
        "    train_data = train_data,\n",
        "    validation_data = validation_data,\n",
        "    options=options,\n",
        ")"
      ]
    },
    {
      "cell_type": "markdown",
      "metadata": {
        "id": "-D9Jyp8mXDQX"
      },
      "source": [
        "##Model Evaluation"
      ]
    },
    {
      "cell_type": "code",
      "execution_count": null,
      "metadata": {
        "colab": {
          "base_uri": "https://localhost:8080/"
        },
        "id": "QmET7q-bdhca",
        "outputId": "550d5ae2-7a87-4818-b5bc-3cd712fab240"
      },
      "outputs": [
        {
          "name": "stdout",
          "output_type": "stream",
          "text": [
            "1/1 [==============================] - 15s 15s/step - loss: 0.5965 - accuracy: 0.9167\n",
            "Test loss:0.5965425372123718, Test accuracy:0.9166666865348816\n"
          ]
        }
      ],
      "source": [
        "loss, acc = model.evaluate(test_data)\n",
        "print(f'Test loss:{loss}, Test accuracy:{acc}')"
      ]
    },
    {
      "cell_type": "markdown",
      "metadata": {
        "id": "4CDVD9QLXHQu"
      },
      "source": [
        "##Model Conversion"
      ]
    },
    {
      "cell_type": "code",
      "execution_count": null,
      "metadata": {
        "id": "d8ceuBw5eVFQ"
      },
      "outputs": [],
      "source": [
        "model.export_model()"
      ]
    },
    {
      "cell_type": "code",
      "execution_count": 69,
      "metadata": {
        "colab": {
          "base_uri": "https://localhost:8080/",
          "height": 34
        },
        "id": "6_-0xgBteZSR",
        "outputId": "8e1b7d5b-6293-4dbc-b6f7-430b2a5205fb"
      },
      "outputs": [
        {
          "name": "stdout",
          "output_type": "stream",
          "text": [
            "checkpoint  metadata.json  model.tflite  summaries\n"
          ]
        },
        {
          "data": {
            "application/javascript": "\n    async function download(id, filename, size) {\n      if (!google.colab.kernel.accessAllowed) {\n        return;\n      }\n      const div = document.createElement('div');\n      const label = document.createElement('label');\n      label.textContent = `Downloading \"${filename}\": `;\n      div.appendChild(label);\n      const progress = document.createElement('progress');\n      progress.max = size;\n      div.appendChild(progress);\n      document.body.appendChild(div);\n\n      const buffers = [];\n      let downloaded = 0;\n\n      const channel = await google.colab.kernel.comms.open(id);\n      // Send a message to notify the kernel that we're ready.\n      channel.send({})\n\n      for await (const message of channel.messages) {\n        // Send a message to notify the kernel that we're ready.\n        channel.send({})\n        if (message.buffers) {\n          for (const buffer of message.buffers) {\n            buffers.push(buffer);\n            downloaded += buffer.byteLength;\n            progress.value = downloaded;\n          }\n        }\n      }\n      const blob = new Blob(buffers, {type: 'application/binary'});\n      const a = document.createElement('a');\n      a.href = window.URL.createObjectURL(blob);\n      a.download = filename;\n      div.appendChild(a);\n      a.click();\n      div.remove();\n    }\n  ",
            "text/plain": [
              "<IPython.core.display.Javascript object>"
            ]
          },
          "metadata": {},
          "output_type": "display_data"
        },
        {
          "data": {
            "application/javascript": "download(\"download_5575f388-14c0-4e0b-957d-b3c7755cd862\", \"model.tflite\", 19207104)",
            "text/plain": [
              "<IPython.core.display.Javascript object>"
            ]
          },
          "metadata": {},
          "output_type": "display_data"
        }
      ],
      "source": [
        "!ls exported_model\n",
        "files.download('exported_model/model.tflite')"
      ]
    },
    {
      "cell_type": "markdown",
      "metadata": {
        "id": "IppDtuvqrxvU"
      },
      "source": [
        "### Retraining parameters\n",
        "\n",
        "> Indented block\n",
        "\n",
        "\n",
        "\n",
        "You can further customize how the retraining process runs to adjust training time and potentially increase the retrained model's performance. *These parameters are optional*. Use the `ImageClassifierModelOptions` class and the `HParams` class to set these additional options.\n",
        "\n",
        "Use the `ImageClassifierModelOptions` class parameters to customize the existing model. It has the following customizable parameter that affects model accuracy:\n",
        "* `dropout_rate`: The fraction of the input units to drop. Used in dropout layer. Defaults to 0.05.\n",
        "\n",
        "Use the `HParams` class to customize other parameters related to training and saving the model:\n",
        "\n",
        "* `learning_rate`: The learning rate to use for gradient descent training. Defaults to 0.001.\n",
        "* `batch_size`: Batch size for training. Defaults to 2.\n",
        "* `epochs`: Number of training iterations over the dataset. Defaults to 10.\n",
        "* `steps_per_epoch`: An optional integer that indicates the number of training steps per epoch. If not set, the training pipeline calculates the default steps per epoch as the training dataset size divided by batch size.\n",
        "* `shuffle`: True if the dataset is shuffled before training. Defaults to False.\n",
        "* `do_fine_tuning`: If true, the base module is trained together with the classification layer on top. This defaults to False, which means only the classification layer is trained and pre-trained weights for the base module are frozen.\n",
        "* `l1_regularizer`: A regularizer that applies a L1 regularization penalty. Defaults to 0.0.\n",
        "* `l2_regularizer`: A regularizer that applies a L2 regularization penalty. Defaults to 0.0001.\n",
        "* `label_smoothing`: Amount of label smoothing to apply. See [`tf.keras.losses`](https://www.tensorflow.org/api_docs/python/tf/keras/losses) for more details. Defaults to 0.1.\n",
        "* `do_data_augmentation`: Whether or not the training dataset is augmented by applying random transformations such as cropping, flipping, etc. See [utils.image_preprocessing](https://www.tensorflow.org/api_docs/python/tf/keras/preprocessing/image) for details. Defaults to True.\n",
        "* `decay_samples`: Number of training samples used to calculate the decay steps and create the training optimizer. Defaults to 2,560,000.\n",
        "* `warmup_epochs`: Number of warmup steps for a linear increasing warmup schedule on the learning rate. Used to set up warmup schedule by `model_util.WarmUp`. Defaults to 2.\n",
        "\n"
      ]
    },
    {
      "cell_type": "code",
      "execution_count": null,
      "metadata": {
        "id": "W-OEEwV2r49P"
      },
      "outputs": [],
      "source": [
        "hparams=image_classifier.HParams(epochs=15, export_dir=\"exported_model_2\")\n",
        "options = image_classifier.ImageClassifierOptions(supported_model=spec, hparams=hparams)\n",
        "model_2 = image_classifier.ImageClassifier.create(\n",
        "    train_data = train_data,\n",
        "    validation_data = validation_data,\n",
        "    options=options,\n",
        ")"
      ]
    },
    {
      "cell_type": "code",
      "execution_count": null,
      "metadata": {
        "id": "QaPCKAHlsC1l"
      },
      "outputs": [],
      "source": [
        "loss, accuracy = model_2.evaluate(test_data)"
      ]
    },
    {
      "cell_type": "code",
      "execution_count": null,
      "metadata": {
        "id": "5z2m1G16sJr-"
      },
      "outputs": [],
      "source": [
        "model.export_model()"
      ]
    }
  ],
  "metadata": {
    "colab": {
      "provenance": []
    },
    "kernelspec": {
      "display_name": "Python 3",
      "name": "python3"
    },
    "language_info": {
      "name": "python"
    }
  },
  "nbformat": 4,
  "nbformat_minor": 0
}
